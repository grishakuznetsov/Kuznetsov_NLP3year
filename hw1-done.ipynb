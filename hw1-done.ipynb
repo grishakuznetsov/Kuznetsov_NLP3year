{
 "cells": [
  {
   "cell_type": "code",
   "execution_count": 1,
   "metadata": {
    "id": "xIAOgQxIxvE8"
   },
   "outputs": [
    {
     "name": "stderr",
     "output_type": "stream",
     "text": [
      "[nltk_data] Downloading package stopwords to\n",
      "[nltk_data]     C:\\Users\\Гриша\\AppData\\Roaming\\nltk_data...\n",
      "[nltk_data]   Package stopwords is already up-to-date!\n"
     ]
    }
   ],
   "source": [
    "import requests\n",
    "from bs4 import BeautifulSoup\n",
    "from sklearn.metrics import accuracy_score\n",
    "import string\n",
    "import time\n",
    "from collections import Counter\n",
    "import nltk\n",
    "from time import sleep\n",
    "import pymorphy2\n",
    "morph = pymorphy2.MorphAnalyzer()\n",
    "\n",
    "from fake_useragent import UserAgent\n",
    "ua = UserAgent(verify_ssl=False)\n",
    "session = requests.session()\n",
    "headers = {'User-Agent': ua.random}\n",
    "\n",
    "nltk.download(\"stopwords\")\n",
    "from nltk.corpus import stopwords\n",
    "russian_stopwords = stopwords.words(\"russian\")"
   ]
  },
  {
   "cell_type": "code",
   "execution_count": 2,
   "metadata": {},
   "outputs": [],
   "source": [
    "def get_reviews(url): # функция для парсинга даты с кинопоиска\n",
    "    time.sleep(5)\n",
    "    reviews = []\n",
    "    ua = UserAgent(verify_ssl=False)\n",
    "    headers = {'User-Agent': ua.random}\n",
    "    time.sleep(5)\n",
    "    html = session.get(url, headers=headers)\n",
    "    page = html.text\n",
    "    soup = BeautifulSoup(page, 'html.parser')\n",
    "    for i in soup.find_all('div', {'class':'brand_words'}):\n",
    "        reviews.append(i.text)\n",
    "    return reviews"
   ]
  },
  {
   "cell_type": "code",
   "execution_count": 3,
   "metadata": {
    "id": "5AiqOSc7_3ub"
   },
   "outputs": [],
   "source": [
    "def preproc(rev): # предобработка данных\n",
    "    lemm_words = []\n",
    "    rev = rev.lower()\n",
    "    for i in '\\n\\r\\t«»-…':\n",
    "        rev = rev.replace(i, '')\n",
    "    for i in string.punctuation:\n",
    "        rev = rev.replace(i, '')\n",
    "    words = [morph.parse(x)[0].normal_form for x \n",
    "             in nltk.word_tokenize(rev)] \n",
    "    for i in words:\n",
    "        lemm_words.append(i)\n",
    "    return lemm_words"
   ]
  },
  {
   "cell_type": "code",
   "execution_count": 4,
   "metadata": {},
   "outputs": [],
   "source": [
    "def divide_data(good_reviews_raw, bad_reviews_raw): # разделение даты на трейнинг и тест\n",
    "    good_train = []\n",
    "    bad_train = []\n",
    "    test_data = {}\n",
    "    upd = {}\n",
    "    for i in good_reviews_raw[:60]:\n",
    "        for j in preproc(i):\n",
    "            good_train.append(j)\n",
    "    for i in bad_reviews_raw[:60]:\n",
    "        for j in preproc(i):\n",
    "            bad_train.append(j)\n",
    "    for i in good_reviews_raw[61:71]:\n",
    "        test_data[i] = 'positive'\n",
    "    for i in bad_reviews_raw[61:71]:\n",
    "        upd[i] = 'negative'\n",
    "    test_data.update(upd)\n",
    "    return good_train, bad_train, test_data"
   ]
  },
  {
   "cell_type": "code",
   "execution_count": 5,
   "metadata": {},
   "outputs": [],
   "source": [
    "def get_word_set(reviews): # убираем стоп-слова и шум и делаем множество слов\n",
    "    stop = []\n",
    "    noise = []\n",
    "    russian_stopwords = stopwords.words(\"russian\")\n",
    "    for i in reviews:\n",
    "        if i not in russian_stopwords:\n",
    "            stop.append(i)\n",
    "    for i in Counter(stop).items():\n",
    "        if i[1] >= 2:\n",
    "            noise.append(i[0]) \n",
    "    return noise"
   ]
  },
  {
   "cell_type": "code",
   "execution_count": 6,
   "metadata": {},
   "outputs": [],
   "source": [
    "def predict_review(review, good_words, bad_words): # предсказание\n",
    "    score = {}\n",
    "    score['positive'] = 0\n",
    "    score['negative'] = 0\n",
    "    for w in review:\n",
    "        if w in good_words:\n",
    "            score['positive'] += 1\n",
    "        elif w in bad_words:\n",
    "            score['negative'] += 1\n",
    "    return Counter(score).most_common()"
   ]
  },
  {
   "cell_type": "code",
   "execution_count": 7,
   "metadata": {},
   "outputs": [],
   "source": [
    "def only(good_words, bad_words): # делаем множества для хороших и плохих слов\n",
    "    good_only = []\n",
    "    bad_only = []\n",
    "    for i in good_words:\n",
    "        if i not in bad_words:\n",
    "            good_only.append(i)\n",
    "    for i in bad_words:\n",
    "        if i not in good_words:\n",
    "            bad_only.append(i)\n",
    "    return good_only, bad_only"
   ]
  },
  {
   "cell_type": "code",
   "execution_count": 8,
   "metadata": {},
   "outputs": [],
   "source": [
    "def test_model(test_data, good_only, bad_only): # тест модели\n",
    "    gold = []\n",
    "    results = []\n",
    "    for i in test_data.items():\n",
    "        results.append(predict_review(preproc(i[0]), good_only, bad_only)[0][0])\n",
    "        gold.append(i[1])\n",
    "    print(\"RESULTS:\")\n",
    "    print(\"Accuracy: %.4f\" % accuracy_score(results, gold))"
   ]
  },
  {
   "cell_type": "code",
   "execution_count": 9,
   "metadata": {
    "id": "Tk034IVZxvmu"
   },
   "outputs": [],
   "source": [
    "good_url = '''https://www.kinopoisk.ru/film/447301/reviews/ord/date/status/good/perpage/100/'''\n",
    "bad_url = '''https://www.kinopoisk.ru/film/447301/reviews/ord/date/status/bad/perpage/100/'''\n",
    "good_train, bad_train, test_data = divide_data(\n",
    "    get_reviews(good_url), get_reviews(bad_url))\n",
    "good_only, bad_only = only(\n",
    "    get_word_set(good_train), get_word_set(bad_train))"
   ]
  },
  {
   "cell_type": "code",
   "execution_count": 10,
   "metadata": {},
   "outputs": [
    {
     "name": "stdout",
     "output_type": "stream",
     "text": [
      "RESULTS:\n",
      "Accuracy: 0.8000\n"
     ]
    }
   ],
   "source": [
    "test_model(test_data, good_only, bad_only)"
   ]
  },
  {
   "cell_type": "markdown",
   "metadata": {},
   "source": [
    "# Улучшения\n",
    "### 1. Классификатор\n",
    "Нужно будет обязательно сделать классификатор основанный на методах машинного обучения и векторизации слов, для лучшего распознавания также может помочь анализ не отдельных слов, а словосочетаний\n",
    "### 2. Больше данных\n",
    "Для лучшего распознавания (тем более для нейросети) нужно больше данных для обучения\n",
    "### 3. Обход капчи\n",
    "У кинопоиска капча и я не нашел API, можно найти способ обойти (ну это уже больше к парсингу)"
   ]
  }
 ],
 "metadata": {
  "colab": {
   "collapsed_sections": [],
   "name": "Untitled3.ipynb",
   "provenance": []
  },
  "kernelspec": {
   "display_name": "Python 3",
   "language": "python",
   "name": "python3"
  },
  "language_info": {
   "codemirror_mode": {
    "name": "ipython",
    "version": 3
   },
   "file_extension": ".py",
   "mimetype": "text/x-python",
   "name": "python",
   "nbconvert_exporter": "python",
   "pygments_lexer": "ipython3",
   "version": "3.7.4"
  }
 },
 "nbformat": 4,
 "nbformat_minor": 1
}
